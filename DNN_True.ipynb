{
 "cells": [
  {
   "cell_type": "markdown",
   "metadata": {},
   "source": [
    "# ディープニューラルネットワーク"
   ]
  },
  {
   "cell_type": "code",
   "execution_count": 1,
   "metadata": {},
   "outputs": [],
   "source": [
    "# 必要なライブラリを読み込む\n",
    "import numpy as np\n",
    "import pandas as pd\n",
    "from keras.datasets import mnist\n",
    "import matplotlib.pyplot as plt\n",
    "from sklearn.model_selection import train_test_split\n",
    "from sklearn.metrics import accuracy_score\n",
    "from sklearn.preprocessing import OneHotEncoder"
   ]
  },
  {
   "cell_type": "markdown",
   "metadata": {},
   "source": [
    "- ScratchDeepNeuralNetrowkClassifierのfitメソッド内"
   ]
  },
  {
   "cell_type": "code",
   "execution_count": 2,
   "metadata": {},
   "outputs": [],
   "source": [
    "# self.sigma : ガウス分布の標準偏差\n",
    "# self.lr : 学習率\n",
    "# self.n_nodes1 : 1層目のノード数\n",
    "# self.n_nodes2 : 2層目のノード数\n",
    "# self.n_output : 出力層のノード数\n",
    "\n",
    "# optimizer = SGD(self.lr)\n",
    "# self.FC1 = FC(self.n_features, self.n_nodes1, SimpleInitializer(self.sigma), optimizer)\n",
    "# self.activation1 = Tanh()\n",
    "# self.FC2 = FC(self.n_nodes1, self.n_nodes2, SimpleInitializer(self.sigma), optimizer)\n",
    "# self.activation2 = Tanh()\n",
    "# self.FC3 = FC(self.n_nodes2, self.n_output, SimpleInitializer(self.sigma), optimizer)\n",
    "# self.activation3 = Softmax()"
   ]
  },
  {
   "cell_type": "markdown",
   "metadata": {},
   "source": [
    "- イテレーションごとのフォワード"
   ]
  },
  {
   "cell_type": "code",
   "execution_count": 3,
   "metadata": {},
   "outputs": [],
   "source": [
    "# A1 = self.FC1.forward(X)\n",
    "# Z1 = self.activation1.forward(A1)\n",
    "# A2 = self.FC2.forward(Z1)\n",
    "# Z2 = self.activation2.forward(A2)\n",
    "# A3 = self.FC3.forward(Z2)\n",
    "# Z3 = self.activation3.forward(A3)"
   ]
  },
  {
   "cell_type": "markdown",
   "metadata": {},
   "source": [
    "- イテレーションごとのバックワード"
   ]
  },
  {
   "cell_type": "code",
   "execution_count": 4,
   "metadata": {},
   "outputs": [],
   "source": [
    "# dA3 = self.activation3.backward(Z3, Y) # 交差エントロピー誤差とソフトマックスを合わせている\n",
    "# dZ2 = self.FC3.backward(dA3)\n",
    "# dA2 = self.activation2.backward(dZ2)\n",
    "# dZ1 = self.FC2.backward(dA2)\n",
    "# dA1 = self.activation1.backward(dZ1)\n",
    "# dZ0 = self.FC1.backward(dA1) # dZ0は使用しない"
   ]
  },
  {
   "cell_type": "code",
   "execution_count": null,
   "metadata": {},
   "outputs": [],
   "source": []
  },
  {
   "cell_type": "markdown",
   "metadata": {},
   "source": [
    "## 【問題1】全結合層のクラス化"
   ]
  },
  {
   "cell_type": "markdown",
   "metadata": {},
   "source": [
    "全結合層のクラス化を行なってください。\n",
    "\n",
    "\n",
    "以下に雛形を載せました。コンストラクタで重みやバイアスの初期化をして、あとはフォワードとバックワードのメソッドを用意します。重みW、バイアスB、およびフォワード時の入力Xをインスタンス変数として保持しておくことで、煩雑な入出力は不要になります。\n",
    "\n",
    "\n",
    "なお、インスタンスも引数として渡すことができます。そのため、初期化方法のインスタンスinitializerをコンストラクタで受け取れば、それにより初期化が行われます。渡すインスタンスを変えれば、初期化方法が変えられます。\n",
    "\n",
    "\n",
    "また、引数として自身のインスタンスselfを渡すこともできます。これを利用してself.optimizer.update(self)という風に層の重みの更新が可能です。更新に必要な値は複数ありますが、すべて全結合層が持つインスタンス変数にすることができます。\n",
    "\n"
   ]
  },
  {
   "cell_type": "code",
   "execution_count": 5,
   "metadata": {},
   "outputs": [],
   "source": [
    "class FC:\n",
    "    \"\"\"\n",
    "    ノード数n_nodes1からn_nodes2への全結合層\n",
    "    Parameters\n",
    "    ----------\n",
    "    n_nodes1 : int\n",
    "      前の層のノード数\n",
    "    n_nodes2 : int\n",
    "      後の層のノード数\n",
    "    initializer : 初期化方法のインスタンス\n",
    "    optimizer : 最適化手法のインスタンス\n",
    "    \"\"\"\n",
    "    def __init__(self, n_nodes1, n_nodes2, initializer, optimizer):\n",
    "        # 初期化\n",
    "        self.optimizer = optimizer\n",
    "        self.n_nodes1 = n_nodes1\n",
    "        self.n_nodes2 = n_nodes2\n",
    "        #self.initializer = initializer\n",
    "        \n",
    "        # initializerのメソッドを使い、self.Wとself.Bを初期化する\n",
    "        self.W = initializer.W(self.n_nodes1, self.n_nodes2)\n",
    "        self.B = initializer.B(self.n_nodes2)\n",
    "        \n",
    "        # 勾配更新の際に使用（AdaGradのみ）\n",
    "        self.HW = 0\n",
    "        self.HB = 0\n",
    "        \n",
    "        pass\n",
    "    \n",
    "    def forward(self, X):\n",
    "        \"\"\"\n",
    "        フォワード\n",
    "        Parameters\n",
    "        ----------\n",
    "        X : 次の形のndarray, shape (batch_size, n_nodes1)\n",
    "            入力\n",
    "        Returns\n",
    "        ----------\n",
    "        A : 次の形のndarray, shape (batch_size, n_nodes2)\n",
    "            出力\n",
    "        \"\"\" \n",
    "        \n",
    "        # 逆伝播時に使用\n",
    "        self.Z = X\n",
    "        # 順伝播の計算部分の本体\n",
    "      \n",
    "        self.A = X @ self.W + self.B\n",
    "        pass\n",
    "        return self.A\n",
    "    \n",
    "    def backward(self, dA):\n",
    "        \"\"\"\n",
    "        バックワード\n",
    "        Parameters\n",
    "        ----------\n",
    "        dA : 次の形のndarray, shape (batch_size, n_nodes2)\n",
    "            後ろから流れてきた勾配\n",
    "        Returns\n",
    "        ----------\n",
    "        dZ : 次の形のndarray, shape (batch_size, n_nodes1)\n",
    "            前に流す勾配\n",
    "        \"\"\"\n",
    "        # バイアス項の勾配\n",
    "        self.dB = np.sum(dA,axis=0)\n",
    "        # バイアス項以外の勾配\n",
    "        self.dW =self.Z.T@dA\n",
    "        # 逆伝播させる値\n",
    "        self.dZ =dA@self.W.T\n",
    "        # 重み更新\n",
    "        self = self.optimizer.update(self)\n",
    "        \n",
    "        return self.dZ"
   ]
  },
  {
   "cell_type": "markdown",
   "metadata": {},
   "source": [
    "## 【問題2】初期化方法のクラス化"
   ]
  },
  {
   "cell_type": "markdown",
   "metadata": {},
   "source": [
    "初期化を行うコードをクラス化してください。\n",
    "\n",
    "\n",
    "前述のように、全結合層のコンストラクタに初期化方法のインスタンスを渡せるようにします。以下の雛形に必要なコードを書き加えていってください。標準偏差の値（sigma）はコンストラクタで受け取るようにすることで、全結合層のクラス内にこの値（sigma）を渡さなくてすむようになります。\n",
    "\n"
   ]
  },
  {
   "cell_type": "code",
   "execution_count": 6,
   "metadata": {},
   "outputs": [],
   "source": [
    "class SimpleInitializer:\n",
    "    \"\"\"\n",
    "    ガウス分布によるシンプルな初期化\n",
    "    Parameters\n",
    "    ----------\n",
    "    sigma : float\n",
    "      ガウス分布の標準偏差\n",
    "    \"\"\"\n",
    "    def __init__(self, sigma):\n",
    "        self.sigma = sigma\n",
    "        \n",
    "    def W(self, n_nodes1, n_nodes2):\n",
    "        \"\"\"\n",
    "        重みの初期化\n",
    "        Parameters\n",
    "        ----------\n",
    "        n_nodes1 : int\n",
    "          前の層のノード数\n",
    "        n_nodes2 : int\n",
    "          後の層のノード数\n",
    "        Returns\n",
    "        ----------\n",
    "        W :\n",
    "        \"\"\"\n",
    "        W = self.sigma * np.random.randn(n_nodes1, n_nodes2)\n",
    "        pass\n",
    "        return W\n",
    "    \n",
    "    def B(self, n_nodes2):\n",
    "        \"\"\"\n",
    "        バイアスの初期化\n",
    "        Parameters\n",
    "        ----------\n",
    "        n_nodes2 : int\n",
    "          後の層のノード数\n",
    "        Returns\n",
    "        ----------\n",
    "        B :\n",
    "        \"\"\"\n",
    "        B = self.sigma * np.random.randn(1, n_nodes2)\n",
    "        pass\n",
    "        return B"
   ]
  },
  {
   "cell_type": "markdown",
   "metadata": {},
   "source": [
    "## 【問題3】最適化手法のクラス化"
   ]
  },
  {
   "cell_type": "markdown",
   "metadata": {},
   "source": [
    "最適化手法のクラス化を行なってください。\n",
    "\n",
    "\n",
    "最適化手法に関しても初期化方法同様に全結合層にインスタンスとして渡します。バックワードのときにself.optimizer.update(self)のように更新できるようにします。以下の雛形に必要なコードを書き加えていってください。\n",
    "\n",
    "\n",
    "これまで扱ってきた最適化手法はSGDクラス（Stochastic Gradient Descent、確率的勾配降下法）として作成します。"
   ]
  },
  {
   "cell_type": "code",
   "execution_count": 7,
   "metadata": {},
   "outputs": [],
   "source": [
    "class SGD:\n",
    "    \"\"\"\n",
    "    確率的勾配降下法\n",
    "    Parameters\n",
    "    ----------\n",
    "    lr : 学習率\n",
    "    \"\"\"\n",
    "    def __init__(self, lr):\n",
    "        self.lr = lr\n",
    "        \n",
    "    def update(self, layer):\n",
    "        \"\"\"\n",
    "        ある層の重みやバイアスの更新\n",
    "        Parameters\n",
    "        ----------\n",
    "        layer : 更新前の層のインスタンス\n",
    "        \"\"\"\n",
    "        # \n",
    "        layer.W -= self.lr * layer.dW / len(layer.Z)\n",
    "        layer.B -= self.lr * layer.dB / len(layer.Z)\n",
    "        return layer      "
   ]
  },
  {
   "cell_type": "markdown",
   "metadata": {},
   "source": [
    "## 【問題4】活性化関数のクラス化"
   ]
  },
  {
   "cell_type": "markdown",
   "metadata": {},
   "source": [
    "活性化関数のクラス化を行なってください。\n",
    "\n",
    "\n",
    "ソフトマックス関数のバックプロパゲーションには交差エントロピー誤差の計算も含む実装を行うことで計算が簡略化されます。\n",
    "\n"
   ]
  },
  {
   "cell_type": "code",
   "execution_count": 8,
   "metadata": {},
   "outputs": [],
   "source": [
    "class sigmoid:\n",
    "    \"\"\"シグモイド\"\"\"\n",
    "    def forward(self,A):\n",
    "        \"\"\"\n",
    "        順伝播\n",
    "        --------\n",
    "        A : 順伝播されてきた値\n",
    "        \"\"\"\n",
    "        self.A = A\n",
    "        Z = 1 / (1 + np.exp(-self.A))\n",
    "        return Z\n",
    "    \n",
    "    def backward(self,dZ):\n",
    "        \"\"\"\n",
    "        逆伝播\n",
    "        --------\n",
    "        dZ : 逆伝播されてきた値\n",
    "        \"\"\"\n",
    "        dA = dZ * ((1 / ( 1 + np.exp(-sself.a))) - (1 / ( 1 + np.exp(-self.A)))**2)\n",
    "        return dA"
   ]
  },
  {
   "cell_type": "code",
   "execution_count": 9,
   "metadata": {},
   "outputs": [],
   "source": [
    "class Tanh:\n",
    "    \"\"\"tanh\"\"\"\n",
    "    def forward(self,A):\n",
    "        \"\"\"\n",
    "        順伝播\n",
    "        --------\n",
    "        A : 順伝播されてきた値\n",
    "        \"\"\"\n",
    "        self.A = A\n",
    "        Z = np.tanh(self.A)\n",
    "        return Z\n",
    "    \n",
    "    def backward(self,dZ):\n",
    "        \"\"\"\n",
    "        逆伝播\n",
    "        --------\n",
    "        dZ : 逆伝播されてきた値\n",
    "        \"\"\"\n",
    "        dA = dZ * ( 1 - np.tanh(self.A)**2)\n",
    "        return dA"
   ]
  },
  {
   "cell_type": "code",
   "execution_count": 23,
   "metadata": {},
   "outputs": [],
   "source": [
    "class Softmax:\n",
    "    \"\"\"softmax\"\"\"\n",
    "    def forward(self,A):\n",
    "        \"\"\"\n",
    "        順伝播\n",
    "        --------\n",
    "        A : 順伝播されてきた値\n",
    "        \"\"\"\n",
    "        Z = np.exp(A) / np.sum(np.exp(A),axis=1).reshape(-1,1)\n",
    "        return Z\n",
    "    \n",
    "    def backward(self,Z,y):\n",
    "        \"\"\"\n",
    "        逆伝播\n",
    "        --------\n",
    "        Z : 出力値\n",
    "        y : 正解データ\n",
    "        \"\"\"\n",
    "        # 逆伝播の値\n",
    "        dA = Z - y\n",
    "        # 損失\n",
    "        loss = - np.sum(y * np.log(Z)) / len(y)\n",
    "        return dA,loss"
   ]
  },
  {
   "cell_type": "markdown",
   "metadata": {},
   "source": [
    "## 【問題5】ReLUクラスの作成"
   ]
  },
  {
   "cell_type": "markdown",
   "metadata": {},
   "source": [
    "現在一般的に使われている活性化関数であるReLU（Rectified Linear Unit）をReLUクラスとして実装してください。\n",
    "\n",
    "\n",
    "ReLUは以下の数式です。\n",
    "\n",
    "$$\n",
    "f(x) = ReLU(x) = (x) if x>0,(0) if x≦0.\n",
    "$$\n",
    "\n",
    "$x$ : ある特徴量。スカラー\n",
    "\n",
    "\n",
    "実装上はnp.maximumを使い配列に対してまとめて計算が可能です。"
   ]
  },
  {
   "cell_type": "markdown",
   "metadata": {},
   "source": [
    "一方、バックプロパゲーションのための $x$ に関する $f(x)$ の微分は以下のようになります。\n",
    "\n",
    "$$\n",
    "∂f(x)∂x= 1if x>0,0if x≦0.\n",
    "$$\n",
    "\n",
    "数学的には微分可能ではないですが、 $x=0$ のとき $0$ とすることで対応しています。\n",
    "\n",
    "\n",
    "フォワード時の $x$ の正負により、勾配を逆伝播するかどうかが決まるということになります。"
   ]
  },
  {
   "cell_type": "code",
   "execution_count": 11,
   "metadata": {},
   "outputs": [],
   "source": [
    "class ReLU:\n",
    "    \"\"\"relu\"\"\"\n",
    "    def forward(self,A):\n",
    "        \"\"\"\n",
    "        順伝播\n",
    "        --------\n",
    "        A : 順伝播されてきた値\n",
    "        \"\"\"\n",
    "        self.A = A\n",
    "        Z = np.maximum(0,A) # maximum関数=引数同士を比べて大きい値が返ってくる\n",
    "        return Z\n",
    "    \n",
    "    def backward(self,dZ):\n",
    "        \"\"\"\n",
    "        逆伝播\n",
    "        --------\n",
    "        dZ : 逆伝播されてきた値\n",
    "        \"\"\"\n",
    "        # self.Aが0より大きければ、１をそれ以外の時は０を返す\n",
    "        dA = dZ * np.where(self.A > 0,1,0)\n",
    "        return dA"
   ]
  },
  {
   "cell_type": "markdown",
   "metadata": {},
   "source": [
    "## 【問題6】重みの初期値"
   ]
  },
  {
   "cell_type": "markdown",
   "metadata": {},
   "source": [
    "ここまでは重みやバイアスの初期値は単純にガウス分布で、標準偏差をハイパーパラメータとして扱ってきました。しかし、どのような値にすると良いかが知られています。シグモイド関数やハイパボリックタンジェント関数のときは Xavierの初期値 （またはGlorotの初期値）、ReLUのときは Heの初期値 が使われます。\n",
    "\n",
    "\n",
    "XavierInitializerクラスと、HeInitializerクラスを作成してください。"
   ]
  },
  {
   "cell_type": "markdown",
   "metadata": {},
   "source": [
    "### Xavierの初期値"
   ]
  },
  {
   "cell_type": "markdown",
   "metadata": {},
   "source": [
    "Xavierの初期値における標準偏差 $\\sigma$ は次の式で求められます。\n",
    "\n",
    "$$\n",
    "σ=1√n\n",
    "$$\n",
    "$n$ : 前の層のノード数\n",
    "\n"
   ]
  },
  {
   "cell_type": "markdown",
   "metadata": {},
   "source": [
    "### Heの初期値"
   ]
  },
  {
   "cell_type": "markdown",
   "metadata": {},
   "source": [
    "Heの初期値における標準偏差 $\\sigma$ は次の式で求められます。\n",
    "\n",
    "$$\n",
    "σ=√2n\n",
    "$$\n",
    "\n",
    "$n$ : 前の層のノード数"
   ]
  },
  {
   "cell_type": "code",
   "execution_count": 12,
   "metadata": {},
   "outputs": [],
   "source": [
    "class XavierInitializer:\n",
    "    \"\"\"Xavier\"\"\"\n",
    "    def __init___(self,sigma):\n",
    "        _ = sigma\n",
    "        \n",
    "    def W(self,n_nodes1,n_nodes2):\n",
    "        \"\"\"\n",
    "        コンストラクタ\n",
    "        --------\n",
    "        n_nodes1 : 前の層のノード数\n",
    "        n_nodes2 : 現在の層のノード数\n",
    "        \"\"\"\n",
    "        self.sigma = 1 / np.sqrt(n_nodes1)\n",
    "        W = self.sigma * np.random.randn(n_nodes1,n_nodes2)\n",
    "        return W\n",
    "    \n",
    "    def B(self,n_nodes2):\n",
    "        \"\"\"\n",
    "        コンストラクタ\n",
    "        --------\n",
    "        n_nodes2 : 現在のノード数\n",
    "        \"\"\"\n",
    "        B = self.sigma * np.random.randn(1,n_nodes2)\n",
    "        return B"
   ]
  },
  {
   "cell_type": "code",
   "execution_count": 13,
   "metadata": {},
   "outputs": [],
   "source": [
    "class HeInitializer:\n",
    "    \"\"\"He\"\"\"\n",
    "    def __init__(self,sigma):\n",
    "        _ = sigma\n",
    "        \n",
    "    def W(self,n_nodes1,n_nodes2):\n",
    "        \"\"\"\n",
    "        コンストラクタ\n",
    "        --------\n",
    "        n_nodes1 : 前の層のノード\n",
    "        n_nodes2 : 現在の層のノード\n",
    "        \"\"\"\n",
    "        self.sigma = np.sqrt(2/n_nodes1)\n",
    "        W = self.sigma * np.random.randn(n_nodes1,n_nodes2)\n",
    "        return W\n",
    "    \n",
    "    def B(self,n_nodes2):\n",
    "        \"\"\"\n",
    "        コンストラクタ\n",
    "        --------\n",
    "        n_nodes2 : 現在の層のノード数\n",
    "        \"\"\"\n",
    "        B = self.sigma * np.random.randn(1,n_nodes2)\n",
    "        return B"
   ]
  },
  {
   "cell_type": "markdown",
   "metadata": {},
   "source": [
    "## 【問題7】最適化手法"
   ]
  },
  {
   "cell_type": "markdown",
   "metadata": {},
   "source": [
    "学習率は学習過程で変化させていく方法が一般的です。基本的な手法である AdaGrad のクラスを作成してください。\n",
    "\n",
    "\n",
    "まず、これまで使ってきたSGDを確認します。"
   ]
  },
  {
   "cell_type": "markdown",
   "metadata": {},
   "source": [
    "$$\n",
    "W′_i=W_i−αE\\frac{\\partial L}{\\partial W_i}\n",
    "$$\n",
    "$$\n",
    "B′_i=B_i−αE\\frac{\\partial L}{\\partial B_i}\n",
    "$$\n",
    "\n",
    "$\\alpha$ : 学習率（層ごとに変えることも可能だが、基本的にはすべて同じとする）\n",
    "\n",
    "\n",
    "$\\frac{\\partial L}{\\partial W_i}$ : $W_i$ に関する損失 $L$ の勾配\n",
    "\n",
    "\n",
    "$\\frac{\\partial L}{\\partial B_i}$ : $B_i$ に関する損失 $L$ の勾配\n",
    "\n",
    "\n",
    "$E()$ : ミニバッチ方向にベクトルの平均を計算\n",
    "\n"
   ]
  },
  {
   "cell_type": "markdown",
   "metadata": {},
   "source": [
    "続いて、AdaGradです。バイアスの数式は省略しますが、重みと同様のことをします。\n",
    "\n",
    "\n",
    "更新された分だけその重みに対する学習率を徐々に下げていきます。イテレーションごとの勾配の二乗和 $H$ を保存しておき、その分だけ学習率を小さくします。\n",
    "\n",
    "\n",
    "学習率は重み一つひとつに対して異なることになります。"
   ]
  },
  {
   "cell_type": "markdown",
   "metadata": {},
   "source": [
    "$$\n",
    "H′_i=H_i+E\\frac{\\partial L}{\\partial W_i}⊙ E\\frac{\\partial L}{\\partial W_i}\n",
    "$$\n",
    "$$\n",
    "W′_i=W_i−α\\frac{1}{√H′_i}E\\frac{\\partial L}{\\partial W_i}\n",
    "$$\n",
    "\n",
    "$H_i$ : i層目に関して、前のイテレーションまでの勾配の二乗和（初期値は0）\n",
    "\n",
    "\n",
    "$H_i^{\\prime}$ : 更新した $H_i$"
   ]
  },
  {
   "cell_type": "code",
   "execution_count": 14,
   "metadata": {},
   "outputs": [],
   "source": [
    "# 確率的勾配降下方の実装\n",
    "class AdaGrad:\n",
    "    \n",
    "    # インスタンス変数を定義\n",
    "    def __init__(self,lr):\n",
    "        self.lr = lr # 学習率\n",
    "        \n",
    "    # パラメータの更新メソッドを定義\n",
    "    def update(self,layer):\n",
    "        \"\"\"\n",
    "        コンストラクタ\n",
    "        --------\n",
    "        layer : layerインスタンス\n",
    "        \"\"\"\n",
    "        layer.HW += layer.dW * layer.dW\n",
    "        layer.HB += layer.dB * layer.dB\n",
    "        # パラメータごとに値を更新\n",
    "        delta = 1e-7#エラー対策\n",
    "        layer.W -= self.lr * layer.dW /(np.sqrt(layer.HW) + delta)/ len(layer.Z)\n",
    "        layer.B -= self.lr * layer.dB /(np.sqrt(layer.HB) + delta)/ len(layer.Z)\n",
    "        return layer\n",
    "        "
   ]
  },
  {
   "cell_type": "markdown",
   "metadata": {},
   "source": [
    "## 【問題8】クラスの完成"
   ]
  },
  {
   "cell_type": "markdown",
   "metadata": {},
   "source": [
    "任意の構成で学習と推定が行えるScratchDeepNeuralNetrowkClassifierクラスを完成させてください。"
   ]
  },
  {
   "cell_type": "code",
   "execution_count": 15,
   "metadata": {},
   "outputs": [],
   "source": [
    "class GetMiniBatch:\n",
    "\n",
    "    def __init__(self, X, y, batch_size = 20, seed=0):\n",
    "        \"\"\"通常のコンストラクタと同様の働き\n",
    "        Parameters\n",
    "        ----------\n",
    "        X : 説明変数（画像の1次元データ）\n",
    "        y : 目的変数（ラベル）\n",
    "        batch_size : 必要なミニバッチのデータ数\n",
    "        seed : ランダムシード固定\n",
    "        \"\"\"\n",
    "        # ランダムシードの固定（学習ごとに同じ生成順）\n",
    "        np.random.seed(seed)\n",
    "        # バッチ数のメンバ変数\n",
    "        self.batch_size = batch_size\n",
    "        # データ全体の長さ分のインデックスをランダムに並べ替え\n",
    "        # np.random.permutation:配列をランダムに並べ替え\n",
    "        shuffle_index = np.random.permutation(np.arange(X.shape[0]))\n",
    "        # 並べ替えたインデックスと同じ順番で説明変数と目的変数を並べ替え\n",
    "        self._X = X[shuffle_index]\n",
    "        self._y = y[shuffle_index]\n",
    "        # データ数をバッチ数で割って、何回呼び出せば、全データを学習したことになるかの判定\n",
    "        self._stop = np.ceil(X.shape[0]/self.batch_size).astype(np.int)\n",
    "\n",
    "    def __len__(self):\n",
    "        return self._stop\n",
    "    \n",
    "    def __iter__(self):\n",
    "        # 何回目の呼び出しか\n",
    "        self._counter = 0\n",
    "        return self\n",
    "\n",
    "    def __next__(self):\n",
    "        # 全データを学習すればストップ\n",
    "        if self._counter >= self._stop:\n",
    "            raise StopIteration()\n",
    "        # 並び変えた_X,_yの何番目のインデックスを採用するか\n",
    "        p0 = self._counter*self.batch_size\n",
    "        p1 = self._counter*self.batch_size + self.batch_size\n",
    "        # returnする前にカウンタに+1しておく\n",
    "        self._counter += 1\n",
    "        # 説明変数と目的変数を返す\n",
    "        return self._X[p0:p1], self._y[p0:p1]"
   ]
  },
  {
   "cell_type": "code",
   "execution_count": 32,
   "metadata": {},
   "outputs": [],
   "source": [
    "class ScratchDeepNeuralNetrowkClassifier():\n",
    "\n",
    "    def __init__(self,batch_size=20,n_features=784,n_nodes1 =400,n_nodes2 = 200,n_output =10,lr =0.005,epoch=10,sigma=0.02,optimizer=SGD, initializer=HeInitializer,activater=ReLU,output_activater=Softmax,verbose=True):\n",
    "        \"\"\"コンストラクタ\n",
    "        Parameters\n",
    "        ----------\n",
    "        batch_size : バッチサイズ（default:20)\n",
    "        n_features : 説明変数の数（default:784)\n",
    "        n_nodes1 : 前の層のノード数（default:400)\n",
    "        n_nodes2 : 当該層のノード数（default:200)\n",
    "        n_output : 出力層のノード数（default:10)\n",
    "        sigma : 初期化時のパラメータ（default:0.02)\n",
    "        lr : 学習率（default:0.005)\n",
    "        verbose : 計算過程の出力（default:True)\n",
    "        epoch : 学習回数（default:10)\n",
    "        optimizer : 最適化手法（default:SGD)\n",
    "        initializer : 初期化方法（default:HeInitializer）\n",
    "        activater : 活性化関数（default:ReLU）\n",
    "        \"\"\"\n",
    "        self.batch_size = batch_size\n",
    "        self.n_features = n_features\n",
    "        self.n_nodes1 = n_nodes1\n",
    "        self.n_nodes2 = n_nodes2\n",
    "        self.n_output = n_output\n",
    "        self.lr = lr\n",
    "        self.epoch = epoch\n",
    "        self.optimizer = optimizer\n",
    "        self.sigma = sigma\n",
    "        self.initializer = initializer\n",
    "        self.activater = activater\n",
    "        self.output_activater = output_activater\n",
    "        self.verbose = verbose\n",
    "        \n",
    "    def fit(self,X,y,X_val=None,y_val=None):\n",
    "        \"\"\"\n",
    "        学習\n",
    "        --------\n",
    "        X : 訓練データの説明変数\n",
    "        y : 訓練データの目的変数\n",
    "        X_val : 評価データの説明変数\n",
    "        y_val : 評価データの目的変数\n",
    "        \"\"\"\n",
    "        \n",
    "        # lossの記録用配列\n",
    "        self.loss_train = []\n",
    "        self.loss_val = []\n",
    "        \n",
    "        # 最適化手法の初期化\n",
    "        optimizer = self.optimizer(self.lr)\n",
    "        \n",
    "        # 各層の初期化\n",
    "        self.FC1 = FC(self.n_features,self.n_nodes1,self.initializer(self.sigma),optimizer)\n",
    "        self.activation1 = self.activater()\n",
    "        self.FC2 = FC(self.n_nodes1,self.n_nodes2,self.initializer(self.sigma),optimizer)\n",
    "        self.activation2 = self.activater()\n",
    "        self.FC3 = FC(self.n_nodes2,self.n_output,self.initializer(self.sigma),optimizer)\n",
    "        self.activation3 = self.output_activater()\n",
    "        \n",
    "        # 学習回数分ループ\n",
    "        for i in range(self.epoch):\n",
    "            # ミニバッチイテレータ生成\n",
    "            get_mini_batch = GetMiniBatch(X,y,batch_size=self.batch_size,seed=i)\n",
    "            \n",
    "            # ミニバッチイテレータループ\n",
    "            for mini_X,mini_y in get_mini_batch:\n",
    "                ## 順伝播\n",
    "                \"\"\"１層目\"\"\"\n",
    "                A1 = self.FC1.forward(mini_X)\n",
    "                Z1 = self.activation1.forward(A1)\n",
    "                \n",
    "                \"\"\"２層目\"\"\"\n",
    "                A2 = self.FC2.forward(Z1)\n",
    "                Z2 = self.activation2.forward(A2)\n",
    "                \n",
    "                \"\"\"３層目\"\"\"\n",
    "                A3 = self.FC3.forward(Z2)\n",
    "                Z3 = self.activation3.forward(A3)\n",
    "                \n",
    "                ## 逆伝播\n",
    "                dA3,loss = self.activation3.backward(Z3,mini_y)\n",
    "                dZ2 = self.FC3.backward(dA3)\n",
    "                dA2 = self.activation2.backward(dZ2)\n",
    "                dZ1 = self.FC2.backward(dA2)\n",
    "                dA1 = self.activation1.backward(dZ1)\n",
    "                dZ0 = self.FC1.backward(dA1)\n",
    "                \n",
    "            # 通過出力\n",
    "            if self.verbose:\n",
    "                ## 順伝播\n",
    "                \"\"\"１層目\"\"\"\n",
    "                A1 = self.FC1.forward(X)\n",
    "                Z1 = self.activation1.forward(A1)\n",
    "                \n",
    "                \"\"\"２層目\"\"\"\n",
    "                A2 = self.FC2.forward(Z1)\n",
    "                Z2 = self.activation2.forward(A2)\n",
    "                \n",
    "                \"\"\"３層目\"\"\"\n",
    "                A3 = self.FC3.forward(Z2)\n",
    "                Z3 = self.activation3.forward(A3)\n",
    "                \n",
    "                # 損失計算と記録\n",
    "                loss = self.activation3.backward(Z3,y)[1]\n",
    "                self.loss_train.append(loss)\n",
    "                print(i,loss)\n",
    "                \n",
    "                # 評価データを見る\n",
    "                if X_val is not None:\n",
    "                    ## 順伝播\n",
    "                    \"\"\"１層目\"\"\"\n",
    "                    A1 = self.FC1.forward(X_val)\n",
    "                    Z1 = self.activation1.forward(A1)\n",
    "                    \n",
    "                    \"\"\"２層目\"\"\"\n",
    "                    A2 = self.FC2.forward(Z1)\n",
    "                    Z2 = self.activation2.forward(A2)\n",
    "                    \n",
    "                    \"\"\"３層目\"\"\"\n",
    "                    A3 = self.FC3.forward(Z2)\n",
    "                    Z3 = self.activation3.forward(A3)\n",
    "                    \n",
    "                    # 損失計算と記録\n",
    "                    self.loss_val.append(self.activation3.backward(Z3,y_val)[1])\n",
    "                    \n",
    "    def predict(self,X):\n",
    "        \"\"\"\n",
    "        予測\n",
    "        --------\n",
    "        X : 入力配列\n",
    "        \"\"\"\n",
    "        # 順伝播\n",
    "        \"\"\"1層目\"\"\"\n",
    "        A1 = self.FC1.forward(X)\n",
    "        Z1 = self.activation1.forward(A1)\n",
    "\n",
    "        \"\"\"２層目\"\"\"\n",
    "        A2 = self.FC2.forward(Z1)\n",
    "        Z2 = self.activation2.forward(A2)\n",
    "\n",
    "        \"\"\"３層目\"\"\"\n",
    "        A3 = self.FC3.forward(Z2)\n",
    "        Z3 = self.activation3.forward(A3)\n",
    "\n",
    "        # 最も大きいインデックスを採用\n",
    "        return np.argmax(Z3,axis=1)\n"
   ]
  },
  {
   "cell_type": "markdown",
   "metadata": {},
   "source": [
    "## 【問題9】学習と推定"
   ]
  },
  {
   "cell_type": "markdown",
   "metadata": {},
   "source": [
    "層の数や活性化関数を変えたいくつかのネットワークを作成してください。そして、MNISTのデータを学習・推定し、Accuracyを計算してください。"
   ]
  },
  {
   "cell_type": "code",
   "execution_count": 17,
   "metadata": {},
   "outputs": [],
   "source": [
    "# 読み込み\n",
    "(X_train, y_train), (X_test, y_test) = mnist.load_data()\n",
    "\n",
    "# 画像データ→行データ\n",
    "X_train = X_train.reshape(-1, 784)\n",
    "X_test = X_test.reshape(-1, 784)\n",
    "\n",
    "# 正規化\n",
    "X_train = X_train.astype(np.float)\n",
    "X_test = X_test.astype(np.float)\n",
    "X_train /= 255\n",
    "X_test /= 255\n",
    "\n",
    "# 分割(訓練データ・評価データ\n",
    "X_train, X_val, y_train, y_val = train_test_split(X_train, y_train, test_size=0.2)\n",
    "\n",
    "# one-hotベクトル化\n",
    "enc = OneHotEncoder(handle_unknown='ignore', sparse=False)\n",
    "y_train_one_hot = enc.fit_transform(y_train[:, np.newaxis])\n",
    "y_test_one_hot = enc.transform(y_val[:, np.newaxis])"
   ]
  },
  {
   "cell_type": "code",
   "execution_count": 33,
   "metadata": {},
   "outputs": [
    {
     "name": "stdout",
     "output_type": "stream",
     "text": [
      "0 1.2881794350390807\n",
      "1 0.7971158909095009\n",
      "2 0.5991456777002023\n",
      "3 0.4999276653667498\n",
      "4 0.44215152877821207\n",
      "5 0.4003154254156251\n",
      "6 0.36395891650811785\n",
      "7 0.3412018818521649\n",
      "8 0.3186649025267526\n",
      "9 0.3019268084831267\n",
      "10 0.2903831637548931\n",
      "11 0.27427279538313903\n",
      "12 0.262736069310421\n",
      "13 0.25158179908151823\n",
      "14 0.24288484045389191\n",
      "15 0.23129781494829604\n",
      "16 0.2258765613126353\n",
      "17 0.21725473787762103\n",
      "18 0.209149770916316\n",
      "19 0.2029759653108972\n",
      "20 0.1948866461423655\n",
      "21 0.19256616144147914\n",
      "22 0.18234379396945238\n",
      "23 0.17981474183847138\n",
      "24 0.17109258092914692\n",
      "25 0.1673770312625774\n",
      "26 0.1626155313204266\n",
      "27 0.1579622837426295\n",
      "28 0.1512574476825076\n",
      "29 0.14843367423128462\n",
      "30 0.14256800420172572\n",
      "31 0.13916564503969892\n",
      "32 0.1349197030567693\n",
      "33 0.13332751170576024\n",
      "34 0.12854291089736175\n",
      "35 0.12424178814213561\n",
      "36 0.12038339442348772\n",
      "37 0.11796839110368362\n",
      "38 0.1143324403070811\n",
      "39 0.11116668999984089\n",
      "40 0.10825010101258513\n",
      "41 0.10577920884100261\n",
      "42 0.10256357047208543\n",
      "43 0.10079485482799802\n",
      "44 0.09743294623886854\n",
      "45 0.09553813895293448\n",
      "46 0.09245067509714212\n",
      "47 0.08903134469835644\n",
      "48 0.08680603234224572\n",
      "49 0.0846814081555115\n",
      "50 0.08336922089984028\n",
      "51 0.08137554257465508\n",
      "52 0.07872648567158197\n",
      "53 0.07621638202855976\n",
      "54 0.07567194769483761\n",
      "55 0.07404913964413193\n",
      "56 0.07130503142339407\n",
      "57 0.06887571638508035\n",
      "58 0.0669101083883617\n",
      "59 0.06646333323149511\n",
      "60 0.06408641620335004\n",
      "61 0.061901065594586316\n",
      "62 0.06047297194589216\n",
      "63 0.05879121050943839\n",
      "64 0.058310904062000166\n",
      "65 0.05595892617357288\n",
      "66 0.0542847114910632\n",
      "67 0.053346966407961036\n",
      "68 0.05225859632130365\n",
      "69 0.05061118733862155\n",
      "70 0.049240671944484934\n",
      "71 0.048278930291948755\n",
      "72 0.04752153662422417\n",
      "73 0.04580178718221474\n",
      "74 0.045380423623567805\n",
      "75 0.04379644767036021\n",
      "76 0.04281950391907014\n",
      "77 0.04175476984595271\n",
      "78 0.04084167604053683\n",
      "79 0.03998798882310546\n",
      "80 0.03880757659850381\n",
      "81 0.03876609414355694\n",
      "82 0.037217866186909226\n",
      "83 0.036545954372947054\n",
      "84 0.03593305715029133\n",
      "85 0.03483330161978869\n",
      "86 0.0344091145501413\n",
      "87 0.03368854418771779\n",
      "88 0.032886602858075605\n",
      "89 0.03198251378225195\n",
      "90 0.03159525822204505\n",
      "91 0.03062225458621122\n",
      "92 0.030536126510941987\n",
      "93 0.029808833490762923\n",
      "94 0.029140097870354445\n",
      "95 0.02858793871410314\n",
      "96 0.027957203733844752\n",
      "97 0.027280225293952083\n",
      "98 0.026745670789779866\n",
      "99 0.026430925615002085\n"
     ]
    }
   ],
   "source": [
    "dnn = ScratchDeepNeuralNetrowkClassifier(epoch=100) \n",
    "\n",
    "dnn.fit(X_train[:4000], y_train_one_hot[:4000], X_val[:2000], y_test_one_hot[:2000])"
   ]
  },
  {
   "cell_type": "code",
   "execution_count": 34,
   "metadata": {},
   "outputs": [
    {
     "data": {
      "text/plain": [
       "0.9274166666666667"
      ]
     },
     "execution_count": 34,
     "metadata": {},
     "output_type": "execute_result"
    }
   ],
   "source": [
    "pred = dnn.predict(X_val)\n",
    "accuracy_score(y_val, pred)"
   ]
  },
  {
   "cell_type": "code",
   "execution_count": 35,
   "metadata": {},
   "outputs": [
    {
     "data": {
      "image/png": "[encoded data removed]",
      "text/plain": [
       "<Figure size 432x288 with 1 Axes>"
      ]
     },
     "metadata": {
      "needs_background": "light"
     },
     "output_type": "display_data"
    }
   ],
   "source": [
    "plt.plot(list(range(1, dnn.epoch+1)), dnn.loss_train, label='train')\n",
    "plt.plot(list(range(1, dnn.epoch+1)), dnn.loss_val, label='test')\n",
    "plt.legend()\n",
    "plt.xticks(list(range(1, dnn.epoch+1)));"
   ]
  }
 ],
 "metadata": {
  "kernelspec": {
   "display_name": "Python 3",
   "language": "python",
   "name": "python3"
  },
  "language_info": {
   "codemirror_mode": {
    "name": "ipython",
    "version": 3
   },
   "file_extension": ".py",
   "mimetype": "text/x-python",
   "name": "python",
   "nbconvert_exporter": "python",
   "pygments_lexer": "ipython3",
   "version": "3.8.5"
  }
 },
 "nbformat": 4,
 "nbformat_minor": 4
}
